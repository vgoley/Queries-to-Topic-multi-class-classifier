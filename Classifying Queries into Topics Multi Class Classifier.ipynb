{
 "cells": [
  {
   "cell_type": "code",
   "execution_count": 1,
   "metadata": {},
   "outputs": [],
   "source": [
    "import pandas as pd\n",
    "import numpy as np\n",
    "import re\n",
    "import matplotlib.pyplot as plt\n",
    "%matplotlib inline\n",
    "import seaborn as sns\n",
    "import nltk\n",
    "from sklearn.metrics import confusion_matrix, classification_report, plot_confusion_matrix, accuracy_score"
   ]
  },
  {
   "cell_type": "code",
   "execution_count": 2,
   "metadata": {},
   "outputs": [
    {
     "data": {
      "text/html": [
       "<div>\n",
       "<style scoped>\n",
       "    .dataframe tbody tr th:only-of-type {\n",
       "        vertical-align: middle;\n",
       "    }\n",
       "\n",
       "    .dataframe tbody tr th {\n",
       "        vertical-align: top;\n",
       "    }\n",
       "\n",
       "    .dataframe thead th {\n",
       "        text-align: right;\n",
       "    }\n",
       "</style>\n",
       "<table border=\"1\" class=\"dataframe\">\n",
       "  <thead>\n",
       "    <tr style=\"text-align: right;\">\n",
       "      <th></th>\n",
       "      <th>question</th>\n",
       "      <th>topic</th>\n",
       "    </tr>\n",
       "  </thead>\n",
       "  <tbody>\n",
       "    <tr>\n",
       "      <td>0</td>\n",
       "      <td>Hi! If I sign up for your email list, can I se...</td>\n",
       "      <td>Sales/Promotions</td>\n",
       "    </tr>\n",
       "    <tr>\n",
       "      <td>1</td>\n",
       "      <td>I'm going to be out of the country for about a...</td>\n",
       "      <td>Shipping</td>\n",
       "    </tr>\n",
       "  </tbody>\n",
       "</table>\n",
       "</div>"
      ],
      "text/plain": [
       "                                            question             topic\n",
       "0  Hi! If I sign up for your email list, can I se...  Sales/Promotions\n",
       "1  I'm going to be out of the country for about a...          Shipping"
      ]
     },
     "execution_count": 2,
     "metadata": {},
     "output_type": "execute_result"
    }
   ],
   "source": [
    "df=pd.read_csv(\"Customer_Service_Questions_Multiclass.csv\")\n",
    "df.head(2)"
   ]
  },
  {
   "cell_type": "code",
   "execution_count": 3,
   "metadata": {},
   "outputs": [
    {
     "data": {
      "text/html": [
       "<div>\n",
       "<style scoped>\n",
       "    .dataframe tbody tr th:only-of-type {\n",
       "        vertical-align: middle;\n",
       "    }\n",
       "\n",
       "    .dataframe tbody tr th {\n",
       "        vertical-align: top;\n",
       "    }\n",
       "\n",
       "    .dataframe thead th {\n",
       "        text-align: right;\n",
       "    }\n",
       "</style>\n",
       "<table border=\"1\" class=\"dataframe\">\n",
       "  <thead>\n",
       "    <tr style=\"text-align: right;\">\n",
       "      <th></th>\n",
       "      <th>question</th>\n",
       "      <th>topic</th>\n",
       "      <th>tokens</th>\n",
       "    </tr>\n",
       "  </thead>\n",
       "  <tbody>\n",
       "    <tr>\n",
       "      <td>0</td>\n",
       "      <td>Hi! If I sign up for your email list, can I se...</td>\n",
       "      <td>Sales/Promotions</td>\n",
       "      <td>sign email list select get email exclusively s...</td>\n",
       "    </tr>\n",
       "    <tr>\n",
       "      <td>1</td>\n",
       "      <td>I'm going to be out of the country for about a...</td>\n",
       "      <td>Shipping</td>\n",
       "      <td>going country week travel going getting animal...</td>\n",
       "    </tr>\n",
       "    <tr>\n",
       "      <td>2</td>\n",
       "      <td>I was wondering if you'd be able to overnight ...</td>\n",
       "      <td>Shipping</td>\n",
       "      <td>wondering able overnight jacket item trenton</td>\n",
       "    </tr>\n",
       "  </tbody>\n",
       "</table>\n",
       "</div>"
      ],
      "text/plain": [
       "                                            question             topic  \\\n",
       "0  Hi! If I sign up for your email list, can I se...  Sales/Promotions   \n",
       "1  I'm going to be out of the country for about a...          Shipping   \n",
       "2  I was wondering if you'd be able to overnight ...          Shipping   \n",
       "\n",
       "                                              tokens  \n",
       "0  sign email list select get email exclusively s...  \n",
       "1  going country week travel going getting animal...  \n",
       "2       wondering able overnight jacket item trenton  "
      ]
     },
     "execution_count": 3,
     "metadata": {},
     "output_type": "execute_result"
    }
   ],
   "source": [
    "#As part of preprocssing Removing punctuation, converting text to lower case, tokenizing, removing text other than alphabetic and Lemmatizing the text.\n",
    "\n",
    "from nltk.corpus import stopwords\n",
    "import re\n",
    "\n",
    "clean_text = []\n",
    "\n",
    "for t in df['question']:\n",
    "    t = re.sub(r'[!\"#$%&()*+,-./:;<=>?[\\]^_`{|}~]', ' ', t).lower()\n",
    "    \n",
    "    words= nltk.tokenize.word_tokenize(t)\n",
    "    words = [w for w in words if w.isalpha()]\n",
    "    \n",
    "    words = [w for w in words if len(w)>2 and w not in stopwords.words('english')]\n",
    "    \n",
    "    lemmatizer = nltk.stem.WordNetLemmatizer()\n",
    "    words = [lemmatizer.lemmatize(w) for w in words]\n",
    "    clean_text.append(' '.join(words))\n",
    "    \n",
    "df['tokens'] = clean_text\n",
    "df.head(3)"
   ]
  },
  {
   "cell_type": "code",
   "execution_count": 23,
   "metadata": {},
   "outputs": [
    {
     "data": {
      "text/plain": [
       "<matplotlib.axes._subplots.AxesSubplot at 0x15276105688>"
      ]
     },
     "execution_count": 23,
     "metadata": {},
     "output_type": "execute_result"
    },
    {
     "data": {
      "image/png": "[encoded data removed]",
      "text/plain": [
       "<Figure size 432x288 with 1 Axes>"
      ]
     },
     "metadata": {
      "needs_background": "light"
     },
     "output_type": "display_data"
    }
   ],
   "source": [
    "# See the distribution of topics in dataframe\n",
    "df.groupby('topic').tokens.count().plot(kind=\"barh\",colormap=\"summer\")"
   ]
  },
  {
   "cell_type": "markdown",
   "metadata": {},
   "source": [
    "#### From the above graph we can see that Sales/Promotions and Omnichannel topics have less questions as compared to the others. So, the dataset is a bit imbalanced."
   ]
  },
  {
   "cell_type": "code",
   "execution_count": 24,
   "metadata": {},
   "outputs": [],
   "source": [
    "# Split data into train and validation sets\n",
    "\n",
    "from sklearn.model_selection import train_test_split\n",
    "from sklearn.preprocessing import LabelEncoder\n",
    "\n",
    "train_x, test_x, train_y, test_y = train_test_split(df['tokens'], df['topic'], test_size=0.2, random_state=32)\n",
    "\n",
    "# Using LabelEncoder to encode label from text to number\n",
    "\n",
    "encoder = LabelEncoder()\n",
    "train_y = encoder.fit_transform(train_y)\n",
    "test_y = encoder.fit_transform(test_y)"
   ]
  },
  {
   "cell_type": "code",
   "execution_count": 25,
   "metadata": {},
   "outputs": [],
   "source": [
    "from sklearn.feature_extraction.text import TfidfVectorizer\n",
    "\n",
    "#Word level TF-IDF\n",
    "tfidf_vect = TfidfVectorizer(analyzer='word', token_pattern=r'\\w{1,}', max_features=5000)\n",
    "tfidf_vect.fit(df['tokens'])\n",
    "\n",
    "xtrain_tfidf = tfidf_vect.transform(train_x)\n",
    "xtest_tfidf = tfidf_vect.transform(test_x)"
   ]
  },
  {
   "cell_type": "code",
   "execution_count": 26,
   "metadata": {},
   "outputs": [],
   "source": [
    "# Using n-gram level TF-IDF also to see if it performs better than Word TF-IDF.\n",
    "\n",
    "tfidf_ngram = TfidfVectorizer(analyzer='word', token_pattern=r'\\w{1,}', ngram_range=(2,3), max_features=5000)\n",
    "tfidf_ngram.fit(df['tokens'])\n",
    "\n",
    "xtrain_ngram = tfidf_ngram.transform(train_x)\n",
    "xtest_ngram = tfidf_ngram.transform(test_x)"
   ]
  },
  {
   "cell_type": "markdown",
   "metadata": {},
   "source": [
    "### 1) Multi-class classification model - Naive Bayes"
   ]
  },
  {
   "cell_type": "code",
   "execution_count": 27,
   "metadata": {},
   "outputs": [],
   "source": [
    "from sklearn.naive_bayes import MultinomialNB\n",
    "\n",
    "nbModel = MultinomialNB()\n",
    "\n",
    "#Fitting and Predicting using word TF-IDF data.\n",
    "nbModel.fit(xtrain_tfidf, train_y)  \n",
    "nb_predict_y = nbModel.predict(xtest_tfidf)\n",
    "\n",
    "#Fitting and Predicting using ngram TF-IDF data.\n",
    "nbModel.fit(xtrain_ngram, train_y)  \n",
    "nbngram_predict_y = nbModel.predict(xtest_ngram)"
   ]
  },
  {
   "cell_type": "code",
   "execution_count": 28,
   "metadata": {},
   "outputs": [],
   "source": [
    "#Function to print evaluation metrices.\n",
    "\n",
    "def evaluate(test,pred):\n",
    "    print(\"\\nConfusion Matrix for the prediction model:\\n\")\n",
    "    print(confusion_matrix(test, pred))\n",
    "\n",
    "    print(\"\\nClassification Report for the prediction model:\\n\")\n",
    "    print(classification_report(test, pred, target_names=df['topic'].unique())) \n",
    "    \n",
    "    print(\"Accuracy:\",accuracy_score(test, pred))"
   ]
  },
  {
   "cell_type": "code",
   "execution_count": 29,
   "metadata": {},
   "outputs": [
    {
     "name": "stdout",
     "output_type": "stream",
     "text": [
      "Naive Bayes using word TF-IDF:\n",
      "\n",
      "Confusion Matrix for the prediction model:\n",
      "\n",
      "[[ 89   0   0   0   4   2   6]\n",
      " [  0 151   3   3   1   0   0]\n",
      " [  0   3 127  15   1   1   1]\n",
      " [  0   2  14 141   3   0   2]\n",
      " [  0   0   0   0 176   0   0]\n",
      " [  1   2   0   0   1  86   1]\n",
      " [  0   0   0   0   1   0 163]]\n",
      "\n",
      "Classification Report for the prediction model:\n",
      "\n",
      "                        precision    recall  f1-score   support\n",
      "\n",
      "      Sales/Promotions       0.99      0.88      0.93       101\n",
      "              Shipping       0.96      0.96      0.96       158\n",
      "  Product Availability       0.88      0.86      0.87       148\n",
      "Product Specifications       0.89      0.87      0.88       162\n",
      "           Omnichannel       0.94      1.00      0.97       176\n",
      "    Product Comparison       0.97      0.95      0.96        91\n",
      "     Returns & Refunds       0.94      0.99      0.97       164\n",
      "\n",
      "              accuracy                           0.93      1000\n",
      "             macro avg       0.94      0.93      0.93      1000\n",
      "          weighted avg       0.93      0.93      0.93      1000\n",
      "\n",
      "Accuracy: 0.933\n"
     ]
    }
   ],
   "source": [
    "print('Naive Bayes using word TF-IDF:')\n",
    "evaluate(test_y,nb_predict_y)"
   ]
  },
  {
   "cell_type": "code",
   "execution_count": 30,
   "metadata": {},
   "outputs": [
    {
     "name": "stdout",
     "output_type": "stream",
     "text": [
      "Naive Bayes using ngram TF-IDF:\n",
      "\n",
      "Confusion Matrix for the prediction model:\n",
      "\n",
      "[[ 93   1   2   3   0   0   2]\n",
      " [  0 132   2  19   2   2   1]\n",
      " [  0   4 122  21   0   0   1]\n",
      " [  1   5  16 140   0   0   0]\n",
      " [  0   0   0   1 174   1   0]\n",
      " [  0   2   0   3   0  84   2]\n",
      " [  1   0   0   1   0   0 162]]\n",
      "\n",
      "Classification Report for the prediction model:\n",
      "\n",
      "                        precision    recall  f1-score   support\n",
      "\n",
      "      Sales/Promotions       0.98      0.92      0.95       101\n",
      "              Shipping       0.92      0.84      0.87       158\n",
      "  Product Availability       0.86      0.82      0.84       148\n",
      "Product Specifications       0.74      0.86      0.80       162\n",
      "           Omnichannel       0.99      0.99      0.99       176\n",
      "    Product Comparison       0.97      0.92      0.94        91\n",
      "     Returns & Refunds       0.96      0.99      0.98       164\n",
      "\n",
      "              accuracy                           0.91      1000\n",
      "             macro avg       0.92      0.91      0.91      1000\n",
      "          weighted avg       0.91      0.91      0.91      1000\n",
      "\n",
      "Accuracy: 0.907\n"
     ]
    }
   ],
   "source": [
    "print('Naive Bayes using ngram TF-IDF:')\n",
    "evaluate(test_y,nbngram_predict_y)"
   ]
  },
  {
   "cell_type": "markdown",
   "metadata": {},
   "source": [
    "#### Comparing the above two results, we can say that the Naive Bayes model using the train test data created from word TF-IDF performed better than the model using ngram TF-IDF."
   ]
  },
  {
   "cell_type": "markdown",
   "metadata": {},
   "source": [
    "### 2) Ensemble model - Random Forest "
   ]
  },
  {
   "cell_type": "code",
   "execution_count": 31,
   "metadata": {},
   "outputs": [],
   "source": [
    "from sklearn.ensemble import RandomForestClassifier\n",
    "\n",
    "rf = RandomForestClassifier(n_estimators=100, max_depth=None, min_samples_split=2)\n",
    "\n",
    "rf.fit(xtrain_tfidf, train_y)  \n",
    "rf_predict_y = rf.predict(xtest_tfidf)"
   ]
  },
  {
   "cell_type": "code",
   "execution_count": 32,
   "metadata": {},
   "outputs": [
    {
     "name": "stdout",
     "output_type": "stream",
     "text": [
      "Random Forest:\n",
      "\n",
      "Confusion Matrix for the prediction model:\n",
      "\n",
      "[[ 97   0   0   1   0   0   3]\n",
      " [  0 155   2   1   0   0   0]\n",
      " [  0   1 142   5   0   0   0]\n",
      " [  0   6   2 154   0   0   0]\n",
      " [  0   1   0   1 174   0   0]\n",
      " [  1   1   0   1   1  86   1]\n",
      " [  0   0   1   0   0   0 163]]\n",
      "\n",
      "Classification Report for the prediction model:\n",
      "\n",
      "                        precision    recall  f1-score   support\n",
      "\n",
      "      Sales/Promotions       0.99      0.96      0.97       101\n",
      "              Shipping       0.95      0.98      0.96       158\n",
      "  Product Availability       0.97      0.96      0.96       148\n",
      "Product Specifications       0.94      0.95      0.95       162\n",
      "           Omnichannel       0.99      0.99      0.99       176\n",
      "    Product Comparison       1.00      0.95      0.97        91\n",
      "     Returns & Refunds       0.98      0.99      0.98       164\n",
      "\n",
      "              accuracy                           0.97      1000\n",
      "             macro avg       0.97      0.97      0.97      1000\n",
      "          weighted avg       0.97      0.97      0.97      1000\n",
      "\n",
      "Accuracy: 0.971\n"
     ]
    }
   ],
   "source": [
    "print('Random Forest:')\n",
    "evaluate(test_y,rf_predict_y)"
   ]
  },
  {
   "cell_type": "markdown",
   "metadata": {},
   "source": [
    "#### This model performed fairly well with an accuracy of 97.1. I also ran the Random Forest model with input data created using ngram TFIDF but it didn't perform as good as the model with data using word TF-IDF. \n",
    "\n",
    "#### Tuning the model's hyperparameters to see if the performnce can be improved further:"
   ]
  },
  {
   "cell_type": "code",
   "execution_count": 61,
   "metadata": {},
   "outputs": [],
   "source": [
    "#Hyper parameter tuning of the Random Forest Classifier\n",
    "\n",
    "from sklearn.model_selection import RandomizedSearchCV\n",
    "\n",
    "random_grid = {'n_estimators': [int(x) for x in np.linspace(start = 200, stop = 2000, num = 10)],\n",
    "               'max_features': ['auto', 'sqrt','log2'],\n",
    "               'max_depth': [int(x) for x in np.linspace(10, 110, num = 10)],\n",
    "               'min_samples_split': [2, 4, 5, 10],\n",
    "               'min_samples_leaf': [1, 2, 4],\n",
    "               'bootstrap': [True, False]}"
   ]
  },
  {
   "cell_type": "code",
   "execution_count": 62,
   "metadata": {},
   "outputs": [
    {
     "name": "stdout",
     "output_type": "stream",
     "text": [
      "Fitting 3 folds for each of 8 candidates, totalling 24 fits\n"
     ]
    },
    {
     "data": {
      "text/plain": [
       "RandomizedSearchCV(cv=3,\n",
       "                   estimator=RandomForestClassifier(max_depth=110,\n",
       "                                                    min_samples_leaf=4,\n",
       "                                                    min_samples_split=5,\n",
       "                                                    n_estimators=1200),\n",
       "                   n_iter=8, n_jobs=-1,\n",
       "                   param_distributions={'bootstrap': [True, False],\n",
       "                                        'max_depth': [10, 21, 32, 43, 54, 65,\n",
       "                                                      76, 87, 98, 110],\n",
       "                                        'max_features': ['auto', 'sqrt',\n",
       "                                                         'log2'],\n",
       "                                        'min_samples_leaf': [1, 2, 4],\n",
       "                                        'min_samples_split': [2, 4, 5, 10],\n",
       "                                        'n_estimators': [200, 400, 600, 800,\n",
       "                                                         1000, 1200, 1400, 1600,\n",
       "                                                         1800, 2000]},\n",
       "                   random_state=32, verbose=2)"
      ]
     },
     "execution_count": 62,
     "metadata": {},
     "output_type": "execute_result"
    }
   ],
   "source": [
    "from sklearn.ensemble import RandomForestRegressor\n",
    "\n",
    "# Random search of parameters, using 3 fold cross validation running 10 iterations\n",
    "rf_random = RandomizedSearchCV(rf, param_distributions = random_grid, n_iter = 8, cv = 3, verbose=2, random_state=32,n_jobs = -1)\n",
    "\n",
    "rf_random.fit(xtrain_tfidf, train_y)"
   ]
  },
  {
   "cell_type": "code",
   "execution_count": 63,
   "metadata": {},
   "outputs": [
    {
     "data": {
      "text/plain": [
       "RandomForestClassifier(max_depth=87, max_features='log2', min_samples_split=4,\n",
       "                       n_estimators=1200)"
      ]
     },
     "execution_count": 63,
     "metadata": {},
     "output_type": "execute_result"
    }
   ],
   "source": [
    "rf_random.best_estimator_"
   ]
  },
  {
   "cell_type": "code",
   "execution_count": 64,
   "metadata": {},
   "outputs": [],
   "source": [
    "rf = RandomForestClassifier(n_estimators=1200, max_depth=87, max_features='log2', min_samples_split=4)\n",
    "\n",
    "rf.fit(xtrain_tfidf, train_y)  \n",
    "rf_predict_y_RS = rf.predict(xtest_tfidf)"
   ]
  },
  {
   "cell_type": "code",
   "execution_count": 65,
   "metadata": {},
   "outputs": [
    {
     "name": "stdout",
     "output_type": "stream",
     "text": [
      "Random Forest using word TF-IDF:\n",
      "\n",
      "Confusion Matrix for the prediction model:\n",
      "\n",
      "[[ 96   0   0   1   0   0   4]\n",
      " [  0 152   3   3   0   0   0]\n",
      " [  0   0 142   6   0   0   0]\n",
      " [  0   3   3 156   0   0   0]\n",
      " [  0   0   0   2 174   0   0]\n",
      " [  1   0   0   1   0  88   1]\n",
      " [  0   0   0   0   0   0 164]]\n",
      "\n",
      "Classification Report for the prediction model:\n",
      "\n",
      "                        precision    recall  f1-score   support\n",
      "\n",
      "      Sales/Promotions       0.99      0.95      0.97       101\n",
      "              Shipping       0.98      0.96      0.97       158\n",
      "  Product Availability       0.96      0.96      0.96       148\n",
      "Product Specifications       0.92      0.96      0.94       162\n",
      "           Omnichannel       1.00      0.99      0.99       176\n",
      "    Product Comparison       1.00      0.97      0.98        91\n",
      "     Returns & Refunds       0.97      1.00      0.98       164\n",
      "\n",
      "              accuracy                           0.97      1000\n",
      "             macro avg       0.97      0.97      0.97      1000\n",
      "          weighted avg       0.97      0.97      0.97      1000\n",
      "\n",
      "Accuracy: 0.972\n"
     ]
    }
   ],
   "source": [
    "print('Random Forest using word TF-IDF:')\n",
    "evaluate(test_y,rf_predict_y_RS)"
   ]
  },
  {
   "cell_type": "markdown",
   "metadata": {},
   "source": [
    "#### Using the best parameters from hyperparameter tuning, the performance of the Random Forest model increased slightly."
   ]
  },
  {
   "cell_type": "markdown",
   "metadata": {},
   "source": [
    "### 3) Neural Network"
   ]
  },
  {
   "cell_type": "code",
   "execution_count": 43,
   "metadata": {},
   "outputs": [],
   "source": [
    "from sklearn.neural_network import MLPClassifier\n",
    "\n",
    "mlp = MLPClassifier(alpha = 1,hidden_layer_sizes=(120,),learning_rate='adaptive',activation = 'relu',solver='adam',random_state=1)\n",
    "mlp.fit(xtrain_tfidf, train_y)  \n",
    "\n",
    "mlp_predict_y = mlp.predict(xtest_tfidf)"
   ]
  },
  {
   "cell_type": "code",
   "execution_count": 44,
   "metadata": {},
   "outputs": [
    {
     "name": "stdout",
     "output_type": "stream",
     "text": [
      "Neural Network:\n",
      "\n",
      "Confusion Matrix for the prediction model:\n",
      "\n",
      "[[ 95   0   1   0   1   0   4]\n",
      " [  0 150   6   2   0   0   0]\n",
      " [  0   0 139   9   0   0   0]\n",
      " [  0   4   8 150   0   0   0]\n",
      " [  0   0   0   2 174   0   0]\n",
      " [  1   3   0   1   0  86   0]\n",
      " [  0   0   0   0   0   0 164]]\n",
      "\n",
      "Classification Report for the prediction model:\n",
      "\n",
      "                        precision    recall  f1-score   support\n",
      "\n",
      "      Sales/Promotions       0.99      0.94      0.96       101\n",
      "              Shipping       0.96      0.95      0.95       158\n",
      "  Product Availability       0.90      0.94      0.92       148\n",
      "Product Specifications       0.91      0.93      0.92       162\n",
      "           Omnichannel       0.99      0.99      0.99       176\n",
      "    Product Comparison       1.00      0.95      0.97        91\n",
      "     Returns & Refunds       0.98      1.00      0.99       164\n",
      "\n",
      "              accuracy                           0.96      1000\n",
      "             macro avg       0.96      0.96      0.96      1000\n",
      "          weighted avg       0.96      0.96      0.96      1000\n",
      "\n",
      "Accuracy: 0.958\n"
     ]
    }
   ],
   "source": [
    "print('Neural Network:')\n",
    "evaluate(test_y,mlp_predict_y)"
   ]
  },
  {
   "cell_type": "code",
   "execution_count": 45,
   "metadata": {},
   "outputs": [],
   "source": [
    "#Hyperparameter tuning for neural network\n",
    "\n",
    "mlp_grid = {\n",
    "    'hidden_layer_sizes': [(10,30,10),(20,)],\n",
    "    'activation': ['tanh', 'relu','sigmoid'],\n",
    "    'solver': ['sgd','adam','lbfgs'],\n",
    "    'alpha': [0.0001, 0.05, 0.005, 0.001],\n",
    "    'learning_rate': ['constant','adaptive','invscaling']\n",
    "}"
   ]
  },
  {
   "cell_type": "code",
   "execution_count": 46,
   "metadata": {},
   "outputs": [
    {
     "name": "stdout",
     "output_type": "stream",
     "text": [
      "Fitting 3 folds for each of 5 candidates, totalling 15 fits\n"
     ]
    },
    {
     "name": "stderr",
     "output_type": "stream",
     "text": [
      "C:\\Users\\Vikanksha Goley\\Anaconda3\\lib\\site-packages\\sklearn\\model_selection\\_search.py:921: UserWarning: One or more of the test scores are non-finite: [0.69775034 0.92624899 0.38374849 0.94949974        nan]\n",
      "  category=UserWarning\n"
     ]
    },
    {
     "data": {
      "text/plain": [
       "RandomizedSearchCV(cv=3,\n",
       "                   estimator=MLPClassifier(alpha=1, hidden_layer_sizes=(120,),\n",
       "                                           learning_rate='adaptive',\n",
       "                                           random_state=1),\n",
       "                   n_iter=5, n_jobs=-1,\n",
       "                   param_distributions={'activation': ['tanh', 'relu',\n",
       "                                                       'sigmoid'],\n",
       "                                        'alpha': [0.0001, 0.05, 0.005, 0.001],\n",
       "                                        'hidden_layer_sizes': [(10, 30, 10),\n",
       "                                                               (20,)],\n",
       "                                        'learning_rate': ['constant',\n",
       "                                                          'adaptive',\n",
       "                                                          'invscaling'],\n",
       "                                        'solver': ['sgd', 'adam', 'lbfgs']},\n",
       "                   random_state=32, verbose=2)"
      ]
     },
     "execution_count": 46,
     "metadata": {},
     "output_type": "execute_result"
    }
   ],
   "source": [
    "mlp_rs = RandomizedSearchCV(mlp, param_distributions = mlp_grid, n_iter = 5, cv = 3, verbose=2, random_state=32,n_jobs = -1)\n",
    "\n",
    "mlp_rs.fit(xtrain_tfidf, train_y)"
   ]
  },
  {
   "cell_type": "code",
   "execution_count": 47,
   "metadata": {},
   "outputs": [
    {
     "data": {
      "text/plain": [
       "MLPClassifier(alpha=0.005, hidden_layer_sizes=(20,), random_state=1)"
      ]
     },
     "execution_count": 47,
     "metadata": {},
     "output_type": "execute_result"
    }
   ],
   "source": [
    "mlp_rs.best_estimator_"
   ]
  },
  {
   "cell_type": "code",
   "execution_count": 48,
   "metadata": {},
   "outputs": [],
   "source": [
    "mlp = MLPClassifier(alpha = 0.005,hidden_layer_sizes=(20,),learning_rate='adaptive',activation = 'relu',solver='adam',random_state=1)\n",
    "mlp.fit(xtrain_tfidf, train_y)  \n",
    "\n",
    "mlp_predict_y_RS = mlp.predict(xtest_tfidf)"
   ]
  },
  {
   "cell_type": "code",
   "execution_count": 49,
   "metadata": {},
   "outputs": [
    {
     "name": "stdout",
     "output_type": "stream",
     "text": [
      "Neural Network:\n",
      "\n",
      "Confusion Matrix for the prediction model:\n",
      "\n",
      "[[ 97   0   0   0   0   0   4]\n",
      " [  0 151   4   3   0   0   0]\n",
      " [  0   1 136  11   0   0   0]\n",
      " [  0   2   6 154   0   0   0]\n",
      " [  0   0   0   0 176   0   0]\n",
      " [  1   0   0   0   0  89   1]\n",
      " [  0   0   0   0   0   0 164]]\n",
      "\n",
      "Classification Report for the prediction model:\n",
      "\n",
      "                        precision    recall  f1-score   support\n",
      "\n",
      "      Sales/Promotions       0.99      0.96      0.97       101\n",
      "              Shipping       0.98      0.96      0.97       158\n",
      "  Product Availability       0.93      0.92      0.93       148\n",
      "Product Specifications       0.92      0.95      0.93       162\n",
      "           Omnichannel       1.00      1.00      1.00       176\n",
      "    Product Comparison       1.00      0.98      0.99        91\n",
      "     Returns & Refunds       0.97      1.00      0.98       164\n",
      "\n",
      "              accuracy                           0.97      1000\n",
      "             macro avg       0.97      0.97      0.97      1000\n",
      "          weighted avg       0.97      0.97      0.97      1000\n",
      "\n",
      "Accuracy: 0.967\n"
     ]
    }
   ],
   "source": [
    "print('Neural Network:')\n",
    "evaluate(test_y,mlp_predict_y_RS)"
   ]
  },
  {
   "cell_type": "markdown",
   "metadata": {},
   "source": [
    "#### After doing hyperparameter tuning, the performance of the Neural Network model improved. The accuracy increased to 96.7% from 95.8% after hyperparameter tuning. "
   ]
  },
  {
   "cell_type": "markdown",
   "metadata": {},
   "source": [
    "### Comparison of the Models and Insights\n",
    "\n",
    "Comparing the results of different models, we can say that the Random Forest model has performed the best. Below are the details:\n",
    "\n",
    "1) The diagonal cells from top-left to bottom-right shows the number of correct predictions. By comparing the 3 confusion matrices(Naive Bayes, Tuned Random forest and Tuned Neural Network) , we can see that Random Forest has out-performed the other two models in most of the categories. \n",
    "\n",
    "2) Comparing the accuracy of the models we can say that the Random Forest performed best with an accuracy of 97.2% followed by Neural Network with an accuracy of 96.7%.\n",
    "\n",
    "3) Since the dataset is imbalanced, F1 score would also give a good idea about the performance. Comparing the F1 score we can say the Random Forest performed best followed by Neural Network model.\n",
    "\n",
    "\n",
    "#### Some other insights are:\n",
    "\n",
    "1) Hyperparameter tuning helped in improving the performance of the models.\n",
    "\n",
    "2) Using ngram- TFIDF, the results were not as good as using word TF-IDF vectorization."
   ]
  },
  {
   "cell_type": "code",
   "execution_count": 66,
   "metadata": {},
   "outputs": [],
   "source": [
    "df.to_csv('Out_Customer_Service_Questions_Multiclass.csv ')"
   ]
  },
  {
   "cell_type": "code",
   "execution_count": null,
   "metadata": {},
   "outputs": [],
   "source": []
  }
 ],
 "metadata": {
  "kernelspec": {
   "display_name": "Python 3",
   "language": "python",
   "name": "python3"
  },
  "language_info": {
   "codemirror_mode": {
    "name": "ipython",
    "version": 3
   },
   "file_extension": ".py",
   "mimetype": "text/x-python",
   "name": "python",
   "nbconvert_exporter": "python",
   "pygments_lexer": "ipython3",
   "version": "3.7.4"
  }
 },
 "nbformat": 4,
 "nbformat_minor": 2
}
